{
 "cells": [
  {
   "cell_type": "markdown",
   "metadata": {},
   "source": [
    "Ejercicio 1"
   ]
  },
  {
   "cell_type": "code",
   "execution_count": 8,
   "metadata": {},
   "outputs": [
    {
     "name": "stdout",
     "output_type": "stream",
     "text": [
      "Reporte\n",
      "    Tanque1: 15%\n",
      "    Tanque2: 20%\n",
      "    Tanque3: 30%\n",
      "    Promedio: 21.666666666666668%\n",
      "    \n"
     ]
    }
   ],
   "source": [
    "# Función para leer 3 tanques de combustible y muestre el promedio\n",
    "\n",
    "def combustible(tanque1, tanque2, tanque3):\n",
    "    promedio = promedio_tanques(tanque1, tanque2, tanque3)\n",
    "    return f\"\"\"Reporte\n",
    "    Tanque1: {tanque1}%\n",
    "    Tanque2: {tanque2}%\n",
    "    Tanque3: {tanque3}%\n",
    "    Promedio: {promedio}%\n",
    "    \"\"\"\n",
    "\n",
    "print(combustible(15,20,30))\n",
    "\n"
   ]
  },
  {
   "cell_type": "code",
   "execution_count": 7,
   "metadata": {},
   "outputs": [],
   "source": [
    "def promedio_tanques(tanque1, tanque2, tanque3):\n",
    "    promedio=(tanque1+ tanque2 + tanque3) / 3\n",
    "    return promedio"
   ]
  },
  {
   "cell_type": "markdown",
   "metadata": {},
   "source": [
    "Ejercicio 2"
   ]
  },
  {
   "cell_type": "code",
   "execution_count": 19,
   "metadata": {},
   "outputs": [
    {
     "name": "stdout",
     "output_type": "stream",
     "text": [
      "Informe 1\n",
      "    Destino: Luna\n",
      "    Tiempo de viaje: 110 \n",
      "    Combustible a la izquierda: 540000\n",
      "    \n",
      "Informe 2\n",
      "    Destino: Tierra\n",
      "    Tiempo de viaje: 76 minutes\n",
      "    Combustible restante: 500000\n",
      "    Detalle: principal 300000\n",
      "externo 200000\n",
      "\n",
      "    \n"
     ]
    }
   ],
   "source": [
    "# Función con un informe preciso de la misión. Considera hora de prelanzamiento, tiempo de vuelo, destino, tanque externo y tanque interno\n",
    "\n",
    "def informe_mision(tiempo_prelanzamiento,tiempo_vuelo, destino, tanque_externo, tanque_interno):\n",
    "    return f\"\"\"Informe 1\n",
    "    Destino: {destino}\n",
    "    Tiempo de viaje: {tiempo_prelanzamiento + tiempo_vuelo} \n",
    "    Combustible a la izquierda: {tanque_externo + tanque_interno}\n",
    "    \"\"\"\n",
    "\n",
    "def informe_mision2(destino, *minutos, **tanques):\n",
    "    detalle_tanque= ''\n",
    "    for nombre_tanque, galones in tanques.items():\n",
    "        detalle_tanque += f\"{nombre_tanque} {galones}\\n\"\n",
    "    \n",
    "    return f\"\"\"Informe 2\n",
    "    Destino: {destino}\n",
    "    Tiempo de viaje: {sum(minutos)} minutes\n",
    "    Combustible restante: {sum(tanques.values())}\n",
    "    Detalle: {detalle_tanque}\n",
    "    \"\"\"\n",
    "\n",
    "print(informe_mision(30, 80, \"Luna\", 40000, 500000))\n",
    "print(informe_mision2(\"Tierra\", 10, 15, 51, principal=300000, externo=200000))\n",
    "\n"
   ]
  }
 ],
 "metadata": {
  "interpreter": {
   "hash": "a75d723d61a44af2b435c0ebbdf45e55ac3c37b61dd8157f31f4fdafb76a827f"
  },
  "kernelspec": {
   "display_name": "Python 3.10.2 64-bit",
   "language": "python",
   "name": "python3"
  },
  "language_info": {
   "codemirror_mode": {
    "name": "ipython",
    "version": 3
   },
   "file_extension": ".py",
   "mimetype": "text/x-python",
   "name": "python",
   "nbconvert_exporter": "python",
   "pygments_lexer": "ipython3",
   "version": "3.10.2"
  },
  "orig_nbformat": 4
 },
 "nbformat": 4,
 "nbformat_minor": 2
}
